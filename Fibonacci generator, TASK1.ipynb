{
 "cells": [
  {
   "cell_type": "markdown",
   "metadata": {},
   "source": [
    "#INTERNSHIP TASK 1\n",
    "FIBONACCI GENERATOR"
   ]
  },
  {
   "cell_type": "code",
   "execution_count": 7,
   "metadata": {},
   "outputs": [
    {
     "name": "stdout",
     "output_type": "stream",
     "text": [
      "Fibonacci sequence:\n",
      "0\n",
      "1\n",
      "1\n",
      "2\n",
      "3\n",
      "5\n",
      "8\n",
      "13\n",
      "21\n",
      "34\n",
      "55\n",
      "89\n",
      "144\n",
      "233\n",
      "377\n",
      "610\n",
      "987\n",
      "1597\n",
      "2584\n",
      "4181\n"
     ]
    }
   ],
   "source": [
    "def fibonacci(number):\n",
    "    num1 = 0\n",
    "    num2 =1\n",
    "    print(\"Fibonacci sequence:\")\n",
    "    print(num1)\n",
    "\n",
    "    if number > 1:\n",
    "        print(num2)  \n",
    "\n",
    "    for _ in range(2, number):\n",
    "        num1, num2 = num2, num1+ num2\n",
    "        print(num2)\n",
    "\n",
    "n_terms_input= int(input(\"How many terms would you like to generate? \"))\n",
    "\n",
    "if n_terms_input <= 0:\n",
    "    print(\"Enter a Positive Integer.\")\n",
    "else:\n",
    "    fibonacci(n_terms_input)\n",
    "\n"
   ]
  },
  {
   "cell_type": "code",
   "execution_count": null,
   "metadata": {},
   "outputs": [],
   "source": []
  }
 ],
 "metadata": {
  "kernelspec": {
   "display_name": "Python 3",
   "language": "python",
   "name": "python3"
  },
  "language_info": {
   "codemirror_mode": {
    "name": "ipython",
    "version": 3
   },
   "file_extension": ".py",
   "mimetype": "text/x-python",
   "name": "python",
   "nbconvert_exporter": "python",
   "pygments_lexer": "ipython3",
   "version": "3.12.1"
  }
 },
 "nbformat": 4,
 "nbformat_minor": 2
}
